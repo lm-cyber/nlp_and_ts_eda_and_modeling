{
 "cells": [
  {
   "cell_type": "code",
   "execution_count": 1,
   "id": "8d54b571-cf0a-41b9-98e9-a935735ea57f",
   "metadata": {},
   "outputs": [],
   "source": [
    "import polars as pl\n",
    "\n",
    "prepare = pl.read_csv(\"prepare.csv\")\n",
    "dates = pl.read_csv(\"lenta_2020-01-01_2024-10-10.csv\").select(pl.col('PostDate').str.to_date())\n",
    "findata = pl.read_csv(\"findata.csv\").with_columns(pl.col('Date').str.to_date())\n",
    "\n",
    "\n"
   ]
  },
  {
   "cell_type": "code",
   "execution_count": 2,
   "id": "9120f10a-905b-438c-8b6b-c87596602ffa",
   "metadata": {},
   "outputs": [
    {
     "data": {
      "text/html": [
       "<div><style>\n",
       ".dataframe > thead > tr,\n",
       ".dataframe > tbody > tr {\n",
       "  text-align: right;\n",
       "  white-space: pre-wrap;\n",
       "}\n",
       "</style>\n",
       "<small>shape: (68_330, 5)</small><table border=\"1\" class=\"dataframe\"><thead><tr><th>title</th><th>text</th><th>rightcol</th><th>snippet</th><th>PostDate</th></tr><tr><td>str</td><td>str</td><td>str</td><td>str</td><td>date</td></tr></thead><tbody><tr><td>&quot;россия утвердить стандарт орга…</td><td>&quot;фото rupert oberhäuser globall…</td><td>&quot;вступить сила принять 2018 год…</td><td>&quot;фото rupert oberhäuser произво…</td><td>2020-01-01</td></tr><tr><td>&quot;российский театр освободить на…</td><td>&quot;фото константин кокошкин комме…</td><td>&quot;обнулить база удаться условие …</td><td>&quot;фото константин кокошкин комме…</td><td>2020-01-01</td></tr><tr><td>&quot;покупать интернет граница стат…</td><td>&quot;фото depositphotos покупать ин…</td><td>&quot;порог беспошлинный ввоз снизит…</td><td>&quot;фото depositphotos покупать ин…</td><td>2020-01-01</td></tr><tr><td>&quot;украина подорожать газ&quot;</td><td>&quot;фото sean gallup getty images …</td><td>&quot;стоимость тысяча кубометр насе…</td><td>&quot;фото sean gallup getty images …</td><td>2020-01-01</td></tr><tr><td>&quot;россия стать самозанятой&quot;</td><td>&quot;фото олег харсей коммерсантъ р…</td><td>&quot;режим распространить 19 новый …</td><td>&quot;фото олег харсей коммерсантъ р…</td><td>2020-01-01</td></tr><tr><td>&hellip;</td><td>&hellip;</td><td>&hellip;</td><td>&hellip;</td><td>&hellip;</td></tr><tr><td>&quot;земля усилиться магнитный буря&quot;</td><td>&quot;фото nasa globallookpress com …</td><td>&quot;земля усилиться магнитный буря&quot;</td><td>&quot;фото nasa globallookpress com …</td><td>2024-10-10</td></tr><tr><td>&quot;число жертва разрушительный ур…</td><td>&quot;фото jose luis gonzalez reuter…</td><td>&quot;число жертва разрушительный ур…</td><td>&quot;фото jose luis gonzalez reuter…</td><td>2024-10-10</td></tr><tr><td>&quot;технопарк сколково пройти конф…</td><td>&quot;фото matej kastelic shuttersto…</td><td>&quot;технопарк сколково пройти конф…</td><td>&quot;фото matej kastelic shuttersto…</td><td>2024-10-10</td></tr><tr><td>&quot;американский банк первый истор…</td><td>&quot;фото darryl dyck keystone pres…</td><td>&quot;американский банк первый истор…</td><td>&quot;фото darryl dyck keystone pres…</td><td>2024-10-10</td></tr><tr><td>&quot;северный сияние начаться росси…</td><td>&quot;фото мобильный репортер агентс…</td><td>&quot;северный сияние начаться росси…</td><td>&quot;фото мобильный репортер агентс…</td><td>2024-10-10</td></tr></tbody></table></div>"
      ],
      "text/plain": [
       "shape: (68_330, 5)\n",
       "┌─────────────────────┬─────────────────────┬────────────────────┬────────────────────┬────────────┐\n",
       "│ title               ┆ text                ┆ rightcol           ┆ snippet            ┆ PostDate   │\n",
       "│ ---                 ┆ ---                 ┆ ---                ┆ ---                ┆ ---        │\n",
       "│ str                 ┆ str                 ┆ str                ┆ str                ┆ date       │\n",
       "╞═════════════════════╪═════════════════════╪════════════════════╪════════════════════╪════════════╡\n",
       "│ россия утвердить    ┆ фото rupert         ┆ вступить сила      ┆ фото rupert        ┆ 2020-01-01 │\n",
       "│ стандарт орга…      ┆ oberhäuser globall… ┆ принять 2018 год…  ┆ oberhäuser         ┆            │\n",
       "│                     ┆                     ┆                    ┆ произво…           ┆            │\n",
       "│ российский театр    ┆ фото константин     ┆ обнулить база      ┆ фото константин    ┆ 2020-01-01 │\n",
       "│ освободить на…      ┆ кокошкин комме…     ┆ удаться условие …  ┆ кокошкин комме…    ┆            │\n",
       "│ покупать интернет   ┆ фото depositphotos  ┆ порог беспошлинный ┆ фото depositphotos ┆ 2020-01-01 │\n",
       "│ граница стат…       ┆ покупать ин…        ┆ ввоз снизит…       ┆ покупать ин…       ┆            │\n",
       "│ украина подорожать  ┆ фото sean gallup    ┆ стоимость тысяча   ┆ фото sean gallup   ┆ 2020-01-01 │\n",
       "│ газ                 ┆ getty images …      ┆ кубометр насе…     ┆ getty images …     ┆            │\n",
       "│ россия стать        ┆ фото олег харсей    ┆ режим              ┆ фото олег харсей   ┆ 2020-01-01 │\n",
       "│ самозанятой         ┆ коммерсантъ р…      ┆ распространить 19  ┆ коммерсантъ р…     ┆            │\n",
       "│                     ┆                     ┆ новый …            ┆                    ┆            │\n",
       "│ …                   ┆ …                   ┆ …                  ┆ …                  ┆ …          │\n",
       "│ земля усилиться     ┆ фото nasa           ┆ земля усилиться    ┆ фото nasa          ┆ 2024-10-10 │\n",
       "│ магнитный буря      ┆ globallookpress com ┆ магнитный буря     ┆ globallookpress    ┆            │\n",
       "│                     ┆ …                   ┆                    ┆ com …              ┆            │\n",
       "│ число жертва        ┆ фото jose luis      ┆ число жертва       ┆ фото jose luis     ┆ 2024-10-10 │\n",
       "│ разрушительный ур…  ┆ gonzalez reuter…    ┆ разрушительный ур… ┆ gonzalez reuter…   ┆            │\n",
       "│ технопарк сколково  ┆ фото matej kastelic ┆ технопарк сколково ┆ фото matej         ┆ 2024-10-10 │\n",
       "│ пройти конф…        ┆ shuttersto…         ┆ пройти конф…       ┆ kastelic           ┆            │\n",
       "│                     ┆                     ┆                    ┆ shuttersto…        ┆            │\n",
       "│ американский банк   ┆ фото darryl dyck    ┆ американский банк  ┆ фото darryl dyck   ┆ 2024-10-10 │\n",
       "│ первый истор…       ┆ keystone pres…      ┆ первый истор…      ┆ keystone pres…     ┆            │\n",
       "│ северный сияние     ┆ фото мобильный      ┆ северный сияние    ┆ фото мобильный     ┆ 2024-10-10 │\n",
       "│ начаться росси…     ┆ репортер агентс…    ┆ начаться росси…    ┆ репортер агентс…   ┆            │\n",
       "└─────────────────────┴─────────────────────┴────────────────────┴────────────────────┴────────────┘"
      ]
     },
     "execution_count": 2,
     "metadata": {},
     "output_type": "execute_result"
    }
   ],
   "source": [
    "news = prepare.with_columns(dates).select('title', 'text', 'rightcol', 'snippet', 'PostDate')\n",
    "news"
   ]
  },
  {
   "cell_type": "code",
   "execution_count": 3,
   "id": "290b284d-269a-4b41-8e96-7fbb7444b0a3",
   "metadata": {},
   "outputs": [
    {
     "data": {
      "text/html": [
       "<div><style>\n",
       ".dataframe > thead > tr,\n",
       ".dataframe > tbody > tr {\n",
       "  text-align: right;\n",
       "  white-space: pre-wrap;\n",
       "}\n",
       "</style>\n",
       "<small>shape: (1_201, 6)</small><table border=\"1\" class=\"dataframe\"><thead><tr><th>Date</th><th>YNDX</th><th>MSFT</th><th>AAPL</th><th>NVDA</th><th>MA</th></tr><tr><td>date</td><td>f64</td><td>f64</td><td>f64</td><td>f64</td><td>f64</td></tr></thead><tbody><tr><td>2020-01-02</td><td>44.080002</td><td>153.938202</td><td>72.876099</td><td>5.973122</td><td>295.023926</td></tr><tr><td>2020-01-03</td><td>43.209999</td><td>152.021408</td><td>72.167603</td><td>5.877516</td><td>292.145538</td></tr><tr><td>2020-01-06</td><td>43.099998</td><td>152.414352</td><td>72.742661</td><td>5.902164</td><td>292.923401</td></tr><tr><td>2020-01-07</td><td>43.165001</td><td>151.024689</td><td>72.400543</td><td>5.97362</td><td>291.931519</td></tr><tr><td>2020-01-08</td><td>43.77</td><td>153.430252</td><td>73.565201</td><td>5.984824</td><td>297.082611</td></tr><tr><td>&hellip;</td><td>&hellip;</td><td>&hellip;</td><td>&hellip;</td><td>&hellip;</td><td>&hellip;</td></tr><tr><td>2024-10-03</td><td>18.940001</td><td>416.540009</td><td>225.669998</td><td>122.849998</td><td>494.312775</td></tr><tr><td>2024-10-04</td><td>18.940001</td><td>416.059998</td><td>226.800003</td><td>124.919998</td><td>497.039154</td></tr><tr><td>2024-10-07</td><td>18.940001</td><td>409.540009</td><td>221.690002</td><td>127.720001</td><td>490.647644</td></tr><tr><td>2024-10-08</td><td>18.940001</td><td>414.709991</td><td>225.770004</td><td>132.889999</td><td>496.399994</td></tr><tr><td>2024-10-09</td><td>18.940001</td><td>417.459991</td><td>229.539993</td><td>132.649994</td><td>499.950012</td></tr></tbody></table></div>"
      ],
      "text/plain": [
       "shape: (1_201, 6)\n",
       "┌────────────┬───────────┬────────────┬────────────┬────────────┬────────────┐\n",
       "│ Date       ┆ YNDX      ┆ MSFT       ┆ AAPL       ┆ NVDA       ┆ MA         │\n",
       "│ ---        ┆ ---       ┆ ---        ┆ ---        ┆ ---        ┆ ---        │\n",
       "│ date       ┆ f64       ┆ f64        ┆ f64        ┆ f64        ┆ f64        │\n",
       "╞════════════╪═══════════╪════════════╪════════════╪════════════╪════════════╡\n",
       "│ 2020-01-02 ┆ 44.080002 ┆ 153.938202 ┆ 72.876099  ┆ 5.973122   ┆ 295.023926 │\n",
       "│ 2020-01-03 ┆ 43.209999 ┆ 152.021408 ┆ 72.167603  ┆ 5.877516   ┆ 292.145538 │\n",
       "│ 2020-01-06 ┆ 43.099998 ┆ 152.414352 ┆ 72.742661  ┆ 5.902164   ┆ 292.923401 │\n",
       "│ 2020-01-07 ┆ 43.165001 ┆ 151.024689 ┆ 72.400543  ┆ 5.97362    ┆ 291.931519 │\n",
       "│ 2020-01-08 ┆ 43.77     ┆ 153.430252 ┆ 73.565201  ┆ 5.984824   ┆ 297.082611 │\n",
       "│ …          ┆ …         ┆ …          ┆ …          ┆ …          ┆ …          │\n",
       "│ 2024-10-03 ┆ 18.940001 ┆ 416.540009 ┆ 225.669998 ┆ 122.849998 ┆ 494.312775 │\n",
       "│ 2024-10-04 ┆ 18.940001 ┆ 416.059998 ┆ 226.800003 ┆ 124.919998 ┆ 497.039154 │\n",
       "│ 2024-10-07 ┆ 18.940001 ┆ 409.540009 ┆ 221.690002 ┆ 127.720001 ┆ 490.647644 │\n",
       "│ 2024-10-08 ┆ 18.940001 ┆ 414.709991 ┆ 225.770004 ┆ 132.889999 ┆ 496.399994 │\n",
       "│ 2024-10-09 ┆ 18.940001 ┆ 417.459991 ┆ 229.539993 ┆ 132.649994 ┆ 499.950012 │\n",
       "└────────────┴───────────┴────────────┴────────────┴────────────┴────────────┘"
      ]
     },
     "execution_count": 3,
     "metadata": {},
     "output_type": "execute_result"
    }
   ],
   "source": [
    "findata"
   ]
  },
  {
   "cell_type": "code",
   "execution_count": 4,
   "id": "07f439dc-f773-4deb-a03e-f11ded648e13",
   "metadata": {},
   "outputs": [],
   "source": [
    "news = news.group_by('PostDate').agg(pl.all().str.join(\"\\n\")).sort('PostDate')"
   ]
  },
  {
   "cell_type": "code",
   "execution_count": 5,
   "id": "eb66d088-23f2-43ab-9b3a-e90271510bab",
   "metadata": {},
   "outputs": [],
   "source": [
    "result = findata.join(news,left_on='Date',right_on='PostDate').sort('Date')"
   ]
  },
  {
   "cell_type": "code",
   "execution_count": 6,
   "id": "45266bdf-8d41-4d6c-ae96-dcb460c63b79",
   "metadata": {},
   "outputs": [
    {
     "data": {
      "text/html": [
       "<div><style>\n",
       ".dataframe > thead > tr,\n",
       ".dataframe > tbody > tr {\n",
       "  text-align: right;\n",
       "  white-space: pre-wrap;\n",
       "}\n",
       "</style>\n",
       "<small>shape: (598, 10)</small><table border=\"1\" class=\"dataframe\"><thead><tr><th>Date</th><th>YNDX</th><th>MSFT</th><th>AAPL</th><th>NVDA</th><th>MA</th><th>title</th><th>text</th><th>rightcol</th><th>snippet</th></tr><tr><td>date</td><td>f64</td><td>f64</td><td>f64</td><td>f64</td><td>f64</td><td>str</td><td>str</td><td>str</td><td>str</td></tr></thead><tbody><tr><td>2020-01-03</td><td>43.209999</td><td>152.021408</td><td>72.167603</td><td>5.877516</td><td>292.145538</td><td>&quot;цена нефть взлететь убийство г…</td><td>&quot;фото pixabay стоимость фьючерс…</td><td>&quot;стоимость фьючерс brent повыси…</td><td>&quot;фото pixabay стоимость фьючерс…</td></tr><tr><td>2020-01-07</td><td>43.165001</td><td>151.024689</td><td>72.400543</td><td>5.97362</td><td>291.931519</td><td>&quot;предсказать будущее мировой эк…</td><td>&quot;фото brendan mcdermid reuters …</td><td>&quot;рост паритет покупательный про…</td><td>&quot;фото brendan mcdermid reuters …</td></tr><tr><td>2020-01-09</td><td>44.540001</td><td>155.347076</td><td>75.127777</td><td>6.050554</td><td>300.977417</td><td>&quot;раскрыть возможность россия са…</td><td>&quot;фото stine jacobsen reuters га…</td><td>&quot;газопровод завершить собственн…</td><td>&quot;фото stine jacobsen reuters ин…</td></tr><tr><td>2020-01-13</td><td>44.299999</td><td>156.487564</td><td>76.906319</td><td>6.273633</td><td>306.92688</td><td>&quot;россия снизиться спрос майонез…</td><td>&quot;фото сергей пивоваров риа ново…</td><td>&quot;данные аналитик ozon спрос май…</td><td>&quot;фото сергей пивоваров риа ново…</td></tr><tr><td>2020-01-15</td><td>43.23</td><td>156.391693</td><td>75.542702</td><td>6.114041</td><td>305.992126</td><td>&quot;мировой долг обновить рекорд\n",
       "м…</td><td>&quot;фото brendan mcdermid reuters …</td><td>&quot;связь это экономист констатиро…</td><td>&quot;фото brendan mcdermid reuters …</td></tr><tr><td>&hellip;</td><td>&hellip;</td><td>&hellip;</td><td>&hellip;</td><td>&hellip;</td><td>&hellip;</td><td>&hellip;</td><td>&hellip;</td><td>&hellip;</td><td>&hellip;</td></tr><tr><td>2024-09-26</td><td>18.940001</td><td>431.309998</td><td>227.520004</td><td>124.040001</td><td>490.617676</td><td>&quot;старый российский интернет маг…</td><td>&quot;фото сергей мамонтов риа новос…</td><td>&quot;старый российский интернет маг…</td><td>&quot;фото сергей мамонтов риа новос…</td></tr><tr><td>2024-09-30</td><td>18.940001</td><td>430.299988</td><td>233.0</td><td>121.440002</td><td>493.144318</td><td>&quot;американский журналист выступи…</td><td>&quot;фото marco bello reuters марин…</td><td>&quot;американский журналист выступи…</td><td>&quot;фото marco bello reuters марин…</td></tr><tr><td>2024-10-02</td><td>18.940001</td><td>417.130005</td><td>226.779999</td><td>118.849998</td><td>494.911987</td><td>&quot;уволить весь россиянин междуна…</td><td>&quot;фото christin hume unsplash ма…</td><td>&quot;уволить весь россиянин междуна…</td><td>&quot;фото christin hume unsplash ма…</td></tr><tr><td>2024-10-04</td><td>18.940001</td><td>416.059998</td><td>226.800003</td><td>124.919998</td><td>497.039154</td><td>&quot;назвать самый выгодный отпуск …</td><td>&quot;фото pixabay марина совиный юр…</td><td>&quot;назвать самый выгодный отпуск …</td><td>&quot;фото pixabay марина совиный юр…</td></tr><tr><td>2024-10-08</td><td>18.940001</td><td>414.709991</td><td>225.770004</td><td>132.889999</td><td>496.399994</td><td>&quot;россия анонсировать рост средн…</td><td>&quot;фото алексей мальгавко риа нов…</td><td>&quot;россия анонсировать рост средн…</td><td>&quot;фото алексей мальгавко риа нов…</td></tr></tbody></table></div>"
      ],
      "text/plain": [
       "shape: (598, 10)\n",
       "┌───────────┬───────────┬───────────┬───────────┬───┬───────────┬───────────┬───────────┬──────────┐\n",
       "│ Date      ┆ YNDX      ┆ MSFT      ┆ AAPL      ┆ … ┆ title     ┆ text      ┆ rightcol  ┆ snippet  │\n",
       "│ ---       ┆ ---       ┆ ---       ┆ ---       ┆   ┆ ---       ┆ ---       ┆ ---       ┆ ---      │\n",
       "│ date      ┆ f64       ┆ f64       ┆ f64       ┆   ┆ str       ┆ str       ┆ str       ┆ str      │\n",
       "╞═══════════╪═══════════╪═══════════╪═══════════╪═══╪═══════════╪═══════════╪═══════════╪══════════╡\n",
       "│ 2020-01-0 ┆ 43.209999 ┆ 152.02140 ┆ 72.167603 ┆ … ┆ цена      ┆ фото      ┆ стоимость ┆ фото     │\n",
       "│ 3         ┆           ┆ 8         ┆           ┆   ┆ нефть     ┆ pixabay   ┆ фьючерс   ┆ pixabay  │\n",
       "│           ┆           ┆           ┆           ┆   ┆ взлететь  ┆ стоимость ┆ brent     ┆ стоимост │\n",
       "│           ┆           ┆           ┆           ┆   ┆ убийство  ┆ фьючерс…  ┆ повыси…   ┆ ь        │\n",
       "│           ┆           ┆           ┆           ┆   ┆ г…        ┆           ┆           ┆ фьючерс… │\n",
       "│ 2020-01-0 ┆ 43.165001 ┆ 151.02468 ┆ 72.400543 ┆ … ┆ предсказа ┆ фото      ┆ рост      ┆ фото     │\n",
       "│ 7         ┆           ┆ 9         ┆           ┆   ┆ ть        ┆ brendan   ┆ паритет   ┆ brendan  │\n",
       "│           ┆           ┆           ┆           ┆   ┆ будущее   ┆ mcdermid  ┆ покупател ┆ mcdermid │\n",
       "│           ┆           ┆           ┆           ┆   ┆ мировой   ┆ reuters … ┆ ьный про… ┆ reuters  │\n",
       "│           ┆           ┆           ┆           ┆   ┆ эк…       ┆           ┆           ┆ …        │\n",
       "│ 2020-01-0 ┆ 44.540001 ┆ 155.34707 ┆ 75.127777 ┆ … ┆ раскрыть  ┆ фото      ┆ газопрово ┆ фото     │\n",
       "│ 9         ┆           ┆ 6         ┆           ┆   ┆ возможнос ┆ stine     ┆ д         ┆ stine    │\n",
       "│           ┆           ┆           ┆           ┆   ┆ ть россия ┆ jacobsen  ┆ завершить ┆ jacobsen │\n",
       "│           ┆           ┆           ┆           ┆   ┆ са…       ┆ reuters   ┆ собственн ┆ reuters  │\n",
       "│           ┆           ┆           ┆           ┆   ┆           ┆ га…       ┆ …         ┆ ин…      │\n",
       "│ 2020-01-1 ┆ 44.299999 ┆ 156.48756 ┆ 76.906319 ┆ … ┆ россия    ┆ фото      ┆ данные    ┆ фото     │\n",
       "│ 3         ┆           ┆ 4         ┆           ┆   ┆ снизиться ┆ сергей    ┆ аналитик  ┆ сергей   │\n",
       "│           ┆           ┆           ┆           ┆   ┆ спрос     ┆ пивоваров ┆ ozon      ┆ пивоваро │\n",
       "│           ┆           ┆           ┆           ┆   ┆ майонез…  ┆ риа ново… ┆ спрос     ┆ в риа    │\n",
       "│           ┆           ┆           ┆           ┆   ┆           ┆           ┆ май…      ┆ ново…    │\n",
       "│ 2020-01-1 ┆ 43.23     ┆ 156.39169 ┆ 75.542702 ┆ … ┆ мировой   ┆ фото      ┆ связь это ┆ фото     │\n",
       "│ 5         ┆           ┆ 3         ┆           ┆   ┆ долг      ┆ brendan   ┆ экономист ┆ brendan  │\n",
       "│           ┆           ┆           ┆           ┆   ┆ обновить  ┆ mcdermid  ┆ констатир ┆ mcdermid │\n",
       "│           ┆           ┆           ┆           ┆   ┆ рекорд    ┆ reuters … ┆ о…        ┆ reuters  │\n",
       "│           ┆           ┆           ┆           ┆   ┆ м…        ┆           ┆           ┆ …        │\n",
       "│ …         ┆ …         ┆ …         ┆ …         ┆ … ┆ …         ┆ …         ┆ …         ┆ …        │\n",
       "│ 2024-09-2 ┆ 18.940001 ┆ 431.30999 ┆ 227.52000 ┆ … ┆ старый    ┆ фото      ┆ старый    ┆ фото     │\n",
       "│ 6         ┆           ┆ 8         ┆ 4         ┆   ┆ российски ┆ сергей    ┆ российски ┆ сергей   │\n",
       "│           ┆           ┆           ┆           ┆   ┆ й         ┆ мамонтов  ┆ й         ┆ мамонтов │\n",
       "│           ┆           ┆           ┆           ┆   ┆ интернет  ┆ риа       ┆ интернет  ┆ риа      │\n",
       "│           ┆           ┆           ┆           ┆   ┆ маг…      ┆ новос…    ┆ маг…      ┆ новос…   │\n",
       "│ 2024-09-3 ┆ 18.940001 ┆ 430.29998 ┆ 233.0     ┆ … ┆ американс ┆ фото      ┆ американс ┆ фото     │\n",
       "│ 0         ┆           ┆ 8         ┆           ┆   ┆ кий       ┆ marco     ┆ кий       ┆ marco    │\n",
       "│           ┆           ┆           ┆           ┆   ┆ журналист ┆ bello     ┆ журналист ┆ bello    │\n",
       "│           ┆           ┆           ┆           ┆   ┆ выступи…  ┆ reuters   ┆ выступи…  ┆ reuters  │\n",
       "│           ┆           ┆           ┆           ┆   ┆           ┆ марин…    ┆           ┆ марин…   │\n",
       "│ 2024-10-0 ┆ 18.940001 ┆ 417.13000 ┆ 226.77999 ┆ … ┆ уволить   ┆ фото      ┆ уволить   ┆ фото     │\n",
       "│ 2         ┆           ┆ 5         ┆ 9         ┆   ┆ весь      ┆ christin  ┆ весь      ┆ christin │\n",
       "│           ┆           ┆           ┆           ┆   ┆ россиянин ┆ hume      ┆ россиянин ┆ hume     │\n",
       "│           ┆           ┆           ┆           ┆   ┆ междуна…  ┆ unsplash  ┆ междуна…  ┆ unsplash │\n",
       "│           ┆           ┆           ┆           ┆   ┆           ┆ ма…       ┆           ┆ ма…      │\n",
       "│ 2024-10-0 ┆ 18.940001 ┆ 416.05999 ┆ 226.80000 ┆ … ┆ назвать   ┆ фото      ┆ назвать   ┆ фото     │\n",
       "│ 4         ┆           ┆ 8         ┆ 3         ┆   ┆ самый     ┆ pixabay   ┆ самый     ┆ pixabay  │\n",
       "│           ┆           ┆           ┆           ┆   ┆ выгодный  ┆ марина    ┆ выгодный  ┆ марина   │\n",
       "│           ┆           ┆           ┆           ┆   ┆ отпуск …  ┆ совиный   ┆ отпуск …  ┆ совиный  │\n",
       "│           ┆           ┆           ┆           ┆   ┆           ┆ юр…       ┆           ┆ юр…      │\n",
       "│ 2024-10-0 ┆ 18.940001 ┆ 414.70999 ┆ 225.77000 ┆ … ┆ россия    ┆ фото      ┆ россия    ┆ фото     │\n",
       "│ 8         ┆           ┆ 1         ┆ 4         ┆   ┆ анонсиров ┆ алексей   ┆ анонсиров ┆ алексей  │\n",
       "│           ┆           ┆           ┆           ┆   ┆ ать рост  ┆ мальгавко ┆ ать рост  ┆ мальгавк │\n",
       "│           ┆           ┆           ┆           ┆   ┆ средн…    ┆ риа нов…  ┆ средн…    ┆ о риа    │\n",
       "│           ┆           ┆           ┆           ┆   ┆           ┆           ┆           ┆ нов…     │\n",
       "└───────────┴───────────┴───────────┴───────────┴───┴───────────┴───────────┴───────────┴──────────┘"
      ]
     },
     "execution_count": 6,
     "metadata": {},
     "output_type": "execute_result"
    }
   ],
   "source": [
    "result"
   ]
  },
  {
   "cell_type": "code",
   "execution_count": 7,
   "id": "6c0f2226-0a53-4525-ac26-7479ab653f9a",
   "metadata": {},
   "outputs": [],
   "source": [
    "from transformers import AutoTokenizer, AutoModel\n",
    "import torch\n",
    "\n",
    "\n",
    "def mean_pooling(model_output, attention_mask):\n",
    "    token_embeddings = model_output[0] #First element of model_output contains all token embeddings\n",
    "    input_mask_expanded = attention_mask.unsqueeze(-1).expand(token_embeddings.size()).float()\n",
    "    sum_embeddings = torch.sum(token_embeddings * input_mask_expanded, 1)\n",
    "    sum_mask = torch.clamp(input_mask_expanded.sum(1), min=1e-9)\n",
    "    return sum_embeddings / sum_mask\n",
    "\n",
    "def get_embeding_link(tokenizer,model):\n",
    "    def get_embeding(sentences):\n",
    "        encoded_input = tokenizer(sentences, padding=True, truncation=True, max_length=512, return_tensors='pt')\n",
    "        with torch.no_grad():\n",
    "            model_output = model(**encoded_input)\n",
    "        sentence_embeddings = mean_pooling(model_output, encoded_input['attention_mask'])\n",
    "        return sentence_embeddings.flatten().numpy()\n",
    "    return get_embeding"
   ]
  },
  {
   "cell_type": "code",
   "execution_count": 8,
   "id": "43c47f9f-75c0-4818-aaf3-9100fc62f825",
   "metadata": {},
   "outputs": [
    {
     "name": "stderr",
     "output_type": "stream",
     "text": [
      "Some weights of the model checkpoint at DeepPavlov/rubert-base-cased were not used when initializing BertModel: ['cls.predictions.bias', 'cls.predictions.decoder.bias', 'cls.predictions.decoder.weight', 'cls.predictions.transform.LayerNorm.bias', 'cls.predictions.transform.LayerNorm.weight', 'cls.predictions.transform.dense.bias', 'cls.predictions.transform.dense.weight', 'cls.seq_relationship.bias', 'cls.seq_relationship.weight']\n",
      "- This IS expected if you are initializing BertModel from the checkpoint of a model trained on another task or with another architecture (e.g. initializing a BertForSequenceClassification model from a BertForPreTraining model).\n",
      "- This IS NOT expected if you are initializing BertModel from the checkpoint of a model that you expect to be exactly identical (initializing a BertForSequenceClassification model from a BertForSequenceClassification model).\n"
     ]
    }
   ],
   "source": [
    "tokenizer_sbert = AutoTokenizer.from_pretrained(\"ai-forever/sbert_large_mt_nlu_ru\")\n",
    "model_sbert = AutoModel.from_pretrained(\"ai-forever/sbert_large_mt_nlu_ru\")\n",
    "tokenizer_deepP = AutoTokenizer.from_pretrained(\"DeepPavlov/rubert-base-cased\")\n",
    "model_deepP = AutoModel.from_pretrained(\"DeepPavlov/rubert-base-cased\")\n",
    "deepP = get_embeding_link(tokenizer_deepP,model_deepP)\n",
    "sbert = get_embeding_link(tokenizer_sbert,model_sbert)"
   ]
  },
  {
   "cell_type": "code",
   "execution_count": 9,
   "id": "71ac329f-f2a0-4046-90b9-c7d9c3c7128a",
   "metadata": {},
   "outputs": [
    {
     "data": {
      "text/plain": [
       "((768,), (1024,))"
      ]
     },
     "execution_count": 9,
     "metadata": {},
     "output_type": "execute_result"
    }
   ],
   "source": [
    "deepP('ddd asd').shape,sbert('asdsad asdsad').shape"
   ]
  },
  {
   "cell_type": "code",
   "execution_count": null,
   "id": "6e65e3e9-6a87-4aa7-a3b7-da573b459f71",
   "metadata": {
    "scrolled": true
   },
   "outputs": [
    {
     "name": "stderr",
     "output_type": "stream",
     "text": [
      "sys:1: MapWithoutReturnDtypeWarning: Calling `map_elements` without specifying `return_dtype` can lead to unpredictable results. Specify `return_dtype` to silence this warning.\n",
      "sys:1: MapWithoutReturnDtypeWarning: Calling `map_elements` without specifying `return_dtype` can lead to unpredictable results. Specify `return_dtype` to silence this warning.\n",
      "sys:1: MapWithoutReturnDtypeWarning: Calling `map_elements` without specifying `return_dtype` can lead to unpredictable results. Specify `return_dtype` to silence this warning.\n",
      "sys:1: MapWithoutReturnDtypeWarning: Calling `map_elements` without specifying `return_dtype` can lead to unpredictable results. Specify `return_dtype` to silence this warning.\n"
     ]
    }
   ],
   "source": [
    "from tqdm import tqdm \n",
    "result = result.with_columns(\n",
    "    pl.col('title').map_elements(deepP).alias('deepP_title'),\n",
    "    pl.col('title').map_elements(sbert).alias('sbert_title'),\n",
    "    pl.col('text').map_elements(deepP).alias('deepP_text'),\n",
    "    pl.col('text').map_elements(sbert).alias('sbert_text'),\n",
    ")\n"
   ]
  },
  {
   "cell_type": "code",
   "execution_count": null,
   "id": "2e173894-7a99-494d-8b44-66f26e50f123",
   "metadata": {},
   "outputs": [],
   "source": [
    "result.select(pl.exclude('deepP_title',\n",
    " 'sbert_title',\n",
    " 'deepP_text',\n",
    " 'sbert_text'))"
   ]
  },
  {
   "cell_type": "code",
   "execution_count": null,
   "id": "9808b818-71a7-40b7-a89f-ceb485b8ea83",
   "metadata": {},
   "outputs": [],
   "source": [
    "result = result.with_columns(\n",
    "    (pl.col(\"YNDX\").shift()> pl.col(\"YNDX\")).alias('YNDX_s'),\n",
    "    (pl.col(\"MSFT\").shift()> pl.col(\"MSFT\")).alias('MSFT_s'),\n",
    "    (pl.col(\"AAPL\").shift()> pl.col(\"AAPL\")).alias('AAPL_s'),\n",
    "    (pl.col(\"NVDA\").shift()> pl.col(\"NVDA\")).alias('NVDA_s'),\n",
    "    (pl.col(\"MA\").shift()> pl.col(\"MA\")).alias('MA_s'),\n",
    "        \n",
    ")"
   ]
  },
  {
   "cell_type": "code",
   "execution_count": null,
   "id": "f8f661cd-1b40-400f-899c-2095f260d0cc",
   "metadata": {},
   "outputs": [],
   "source": [
    "result['deepP_text'].to_numpy()[0].shape"
   ]
  },
  {
   "cell_type": "code",
   "execution_count": null,
   "id": "7c3711b9-c221-4acc-9d8a-3740c8161b24",
   "metadata": {},
   "outputs": [],
   "source": [
    "import gc \n",
    "gc.collect()"
   ]
  },
  {
   "cell_type": "code",
   "execution_count": null,
   "id": "ebb20b25-1c9e-40ca-8bf5-afdb2e301ff7",
   "metadata": {},
   "outputs": [],
   "source": [
    "import numpy as np"
   ]
  },
  {
   "cell_type": "code",
   "execution_count": null,
   "id": "19343d71-5b31-4454-802e-a2f54dd514db",
   "metadata": {},
   "outputs": [],
   "source": [
    "all_embs = np.concatenate(\n",
    "    [\n",
    "        np.array(result['deepP_text'].to_list()),\n",
    "        np.array(result['deepP_title'].to_list()),\n",
    "        np.array(result['sbert_title'].to_list()),\n",
    "        np.array(result['sbert_text'].to_list())\n",
    "    ]\n",
    "    ,axis=1)\n",
    "all_embs.shape"
   ]
  },
  {
   "cell_type": "code",
   "execution_count": null,
   "id": "cfdd6b2c-9510-408c-8d68-d434aec62fcd",
   "metadata": {},
   "outputs": [],
   "source": [
    "result = result.with_columns(\n",
    "   pl.lit(all_embs).alias('embs')\n",
    "        \n",
    ")"
   ]
  },
  {
   "cell_type": "code",
   "execution_count": null,
   "id": "9f4e8e37-8edf-4f4c-8f67-3284a3320f4c",
   "metadata": {},
   "outputs": [],
   "source": [
    "result = result.with_columns(\n",
    "   pl.col(\"MSFT\").shift().alias('target')\n",
    "        \n",
    ")"
   ]
  },
  {
   "cell_type": "code",
   "execution_count": null,
   "id": "35102a29-4103-4a60-9ac2-2f8114691baf",
   "metadata": {},
   "outputs": [],
   "source": [
    "from sklearn.svm import SVC "
   ]
  },
  {
   "cell_type": "code",
   "execution_count": null,
   "id": "8ca1102a-ee42-4962-8b80-88c6c508da92",
   "metadata": {},
   "outputs": [],
   "source": [
    "from sklearn.model_selection import TimeSeriesSplit\n",
    "tscv =TimeSeriesSplit()"
   ]
  },
  {
   "cell_type": "code",
   "execution_count": null,
   "id": "c431920f-389d-4cf6-a393-6a0ca49b6b7f",
   "metadata": {},
   "outputs": [],
   "source": [
    "result_pd = result.to_pandas() # deadlock in rust backend \n",
    "pl.__version__"
   ]
  },
  {
   "cell_type": "code",
   "execution_count": null,
   "id": "dc2b1a43-da2c-453d-adcb-e4e0d007400f",
   "metadata": {},
   "outputs": [],
   "source": [
    "# for i, (train_index, test_index) in enumerate(tscv.split(result)):\n",
    "    # print(f\"Fold {i}:\")\n",
    "    # print(f\"  Train: index={train_index}\")\n",
    "    # print(f\"  Test:  index={test_index}\")\n",
    "    \n"
   ]
  },
  {
   "cell_type": "code",
   "execution_count": null,
   "id": "92dc0a4d-9dbe-47f4-b94b-d5416efc1443",
   "metadata": {},
   "outputs": [],
   "source": [
    "# from sklearn.metrics import mean_absolute_percentage_error as mape\n",
    "# from sklearn.ensemble import GradientBoostingRegressor"
   ]
  },
  {
   "cell_type": "code",
   "execution_count": null,
   "id": "fc04c3fc-49c1-4944-a56f-51cdbec2faf8",
   "metadata": {},
   "outputs": [],
   "source": [
    "# def train_test_pipeline(df, tr_index, t_index):\n",
    "#     x, y = df.iloc[tr_index].drop('target',axis=1),df.iloc[tr_index]['target']\n",
    "#     tx, ty = df.iloc[t_index].drop('target',axis=1),df.iloc[t_index]['target']\n",
    "#     YNDX_s =   SVC().fit(x['embs  "
   ]
  },
  {
   "cell_type": "code",
   "execution_count": null,
   "id": "31295b0a-6924-4e6d-b579-f043e1acf453",
   "metadata": {},
   "outputs": [],
   "source": [
    "# YNDX_s'),\n",
    "#     (pl.col(\"MSFT\").shift()> pl.col(\"MSFT\")).alias('MSFT_s'),\n",
    "#     (pl.col(\"AAPL\").shift()> pl.col(\"AAPL\")).alias('AAPL_s'),\n",
    "#     (pl.col(\"NVDA\").shift()> pl.col(\"NVDA\")).alias('NVDA_s'),\n",
    "#     (pl.col(\"MA\").shift()> pl.col(\"MA\")).alias('MA_s'),"
   ]
  },
  {
   "cell_type": "code",
   "execution_count": null,
   "id": "8535d6f3-f49c-4659-a2c7-8bf46b6c6eef",
   "metadata": {},
   "outputs": [],
   "source": [
    "# result[[0,1]]"
   ]
  },
  {
   "cell_type": "code",
   "execution_count": null,
   "id": "d489c46d-6afc-4d30-b797-9950f1304fc6",
   "metadata": {},
   "outputs": [],
   "source": [
    "# result"
   ]
  }
 ],
 "metadata": {
  "kernelspec": {
   "display_name": "venv",
   "language": "python",
   "name": "venv"
  },
  "language_info": {
   "codemirror_mode": {
    "name": "ipython",
    "version": 3
   },
   "file_extension": ".py",
   "mimetype": "text/x-python",
   "name": "python",
   "nbconvert_exporter": "python",
   "pygments_lexer": "ipython3",
   "version": "3.12.7"
  }
 },
 "nbformat": 4,
 "nbformat_minor": 5
}
