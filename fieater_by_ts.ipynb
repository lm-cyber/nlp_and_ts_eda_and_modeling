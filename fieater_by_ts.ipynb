{
 "cells": [
  {
   "cell_type": "code",
   "execution_count": 1,
   "id": "8d54b571-cf0a-41b9-98e9-a935735ea57f",
   "metadata": {},
   "outputs": [],
   "source": [
    "import polars as pl\n",
    "\n",
    "prepare = pl.read_csv(\"prepare.csv\")\n",
    "dates = pl.read_csv(\"lenta_2020-01-01_2024-10-10.csv\").select(pl.col('PostDate').str.to_date())\n",
    "findata = pl.read_csv(\"findata.csv\").with_columns(pl.col('Date').str.to_date())\n",
    "\n",
    "\n"
   ]
  },
  {
   "cell_type": "code",
   "execution_count": 2,
   "id": "9120f10a-905b-438c-8b6b-c87596602ffa",
   "metadata": {},
   "outputs": [
    {
     "data": {
      "text/html": [
       "<div><style>\n",
       ".dataframe > thead > tr,\n",
       ".dataframe > tbody > tr {\n",
       "  text-align: right;\n",
       "  white-space: pre-wrap;\n",
       "}\n",
       "</style>\n",
       "<small>shape: (68_330, 5)</small><table border=\"1\" class=\"dataframe\"><thead><tr><th>title</th><th>text</th><th>rightcol</th><th>snippet</th><th>PostDate</th></tr><tr><td>str</td><td>str</td><td>str</td><td>str</td><td>date</td></tr></thead><tbody><tr><td>&quot;россия утвердить стандарт орга…</td><td>&quot;фото rupert oberhäuser globall…</td><td>&quot;вступить сила принять 2018 год…</td><td>&quot;фото rupert oberhäuser произво…</td><td>2020-01-01</td></tr><tr><td>&quot;российский театр освободить на…</td><td>&quot;фото константин кокошкин комме…</td><td>&quot;обнулить база удаться условие …</td><td>&quot;фото константин кокошкин комме…</td><td>2020-01-01</td></tr><tr><td>&quot;покупать интернет граница стат…</td><td>&quot;фото depositphotos покупать ин…</td><td>&quot;порог беспошлинный ввоз снизит…</td><td>&quot;фото depositphotos покупать ин…</td><td>2020-01-01</td></tr><tr><td>&quot;украина подорожать газ&quot;</td><td>&quot;фото sean gallup getty images …</td><td>&quot;стоимость тысяча кубометр насе…</td><td>&quot;фото sean gallup getty images …</td><td>2020-01-01</td></tr><tr><td>&quot;россия стать самозанятой&quot;</td><td>&quot;фото олег харсей коммерсантъ р…</td><td>&quot;режим распространить 19 новый …</td><td>&quot;фото олег харсей коммерсантъ р…</td><td>2020-01-01</td></tr><tr><td>&hellip;</td><td>&hellip;</td><td>&hellip;</td><td>&hellip;</td><td>&hellip;</td></tr><tr><td>&quot;земля усилиться магнитный буря&quot;</td><td>&quot;фото nasa globallookpress com …</td><td>&quot;земля усилиться магнитный буря&quot;</td><td>&quot;фото nasa globallookpress com …</td><td>2024-10-10</td></tr><tr><td>&quot;число жертва разрушительный ур…</td><td>&quot;фото jose luis gonzalez reuter…</td><td>&quot;число жертва разрушительный ур…</td><td>&quot;фото jose luis gonzalez reuter…</td><td>2024-10-10</td></tr><tr><td>&quot;технопарк сколково пройти конф…</td><td>&quot;фото matej kastelic shuttersto…</td><td>&quot;технопарк сколково пройти конф…</td><td>&quot;фото matej kastelic shuttersto…</td><td>2024-10-10</td></tr><tr><td>&quot;американский банк первый истор…</td><td>&quot;фото darryl dyck keystone pres…</td><td>&quot;американский банк первый истор…</td><td>&quot;фото darryl dyck keystone pres…</td><td>2024-10-10</td></tr><tr><td>&quot;северный сияние начаться росси…</td><td>&quot;фото мобильный репортер агентс…</td><td>&quot;северный сияние начаться росси…</td><td>&quot;фото мобильный репортер агентс…</td><td>2024-10-10</td></tr></tbody></table></div>"
      ],
      "text/plain": [
       "shape: (68_330, 5)\n",
       "┌─────────────────────┬─────────────────────┬────────────────────┬────────────────────┬────────────┐\n",
       "│ title               ┆ text                ┆ rightcol           ┆ snippet            ┆ PostDate   │\n",
       "│ ---                 ┆ ---                 ┆ ---                ┆ ---                ┆ ---        │\n",
       "│ str                 ┆ str                 ┆ str                ┆ str                ┆ date       │\n",
       "╞═════════════════════╪═════════════════════╪════════════════════╪════════════════════╪════════════╡\n",
       "│ россия утвердить    ┆ фото rupert         ┆ вступить сила      ┆ фото rupert        ┆ 2020-01-01 │\n",
       "│ стандарт орга…      ┆ oberhäuser globall… ┆ принять 2018 год…  ┆ oberhäuser         ┆            │\n",
       "│                     ┆                     ┆                    ┆ произво…           ┆            │\n",
       "│ российский театр    ┆ фото константин     ┆ обнулить база      ┆ фото константин    ┆ 2020-01-01 │\n",
       "│ освободить на…      ┆ кокошкин комме…     ┆ удаться условие …  ┆ кокошкин комме…    ┆            │\n",
       "│ покупать интернет   ┆ фото depositphotos  ┆ порог беспошлинный ┆ фото depositphotos ┆ 2020-01-01 │\n",
       "│ граница стат…       ┆ покупать ин…        ┆ ввоз снизит…       ┆ покупать ин…       ┆            │\n",
       "│ украина подорожать  ┆ фото sean gallup    ┆ стоимость тысяча   ┆ фото sean gallup   ┆ 2020-01-01 │\n",
       "│ газ                 ┆ getty images …      ┆ кубометр насе…     ┆ getty images …     ┆            │\n",
       "│ россия стать        ┆ фото олег харсей    ┆ режим              ┆ фото олег харсей   ┆ 2020-01-01 │\n",
       "│ самозанятой         ┆ коммерсантъ р…      ┆ распространить 19  ┆ коммерсантъ р…     ┆            │\n",
       "│                     ┆                     ┆ новый …            ┆                    ┆            │\n",
       "│ …                   ┆ …                   ┆ …                  ┆ …                  ┆ …          │\n",
       "│ земля усилиться     ┆ фото nasa           ┆ земля усилиться    ┆ фото nasa          ┆ 2024-10-10 │\n",
       "│ магнитный буря      ┆ globallookpress com ┆ магнитный буря     ┆ globallookpress    ┆            │\n",
       "│                     ┆ …                   ┆                    ┆ com …              ┆            │\n",
       "│ число жертва        ┆ фото jose luis      ┆ число жертва       ┆ фото jose luis     ┆ 2024-10-10 │\n",
       "│ разрушительный ур…  ┆ gonzalez reuter…    ┆ разрушительный ур… ┆ gonzalez reuter…   ┆            │\n",
       "│ технопарк сколково  ┆ фото matej kastelic ┆ технопарк сколково ┆ фото matej         ┆ 2024-10-10 │\n",
       "│ пройти конф…        ┆ shuttersto…         ┆ пройти конф…       ┆ kastelic           ┆            │\n",
       "│                     ┆                     ┆                    ┆ shuttersto…        ┆            │\n",
       "│ американский банк   ┆ фото darryl dyck    ┆ американский банк  ┆ фото darryl dyck   ┆ 2024-10-10 │\n",
       "│ первый истор…       ┆ keystone pres…      ┆ первый истор…      ┆ keystone pres…     ┆            │\n",
       "│ северный сияние     ┆ фото мобильный      ┆ северный сияние    ┆ фото мобильный     ┆ 2024-10-10 │\n",
       "│ начаться росси…     ┆ репортер агентс…    ┆ начаться росси…    ┆ репортер агентс…   ┆            │\n",
       "└─────────────────────┴─────────────────────┴────────────────────┴────────────────────┴────────────┘"
      ]
     },
     "execution_count": 2,
     "metadata": {},
     "output_type": "execute_result"
    }
   ],
   "source": [
    "news = prepare.with_columns(dates).select('title', 'text', 'rightcol', 'snippet', 'PostDate')\n",
    "news"
   ]
  },
  {
   "cell_type": "code",
   "execution_count": 3,
   "id": "290b284d-269a-4b41-8e96-7fbb7444b0a3",
   "metadata": {},
   "outputs": [
    {
     "data": {
      "text/html": [
       "<div><style>\n",
       ".dataframe > thead > tr,\n",
       ".dataframe > tbody > tr {\n",
       "  text-align: right;\n",
       "  white-space: pre-wrap;\n",
       "}\n",
       "</style>\n",
       "<small>shape: (1_201, 6)</small><table border=\"1\" class=\"dataframe\"><thead><tr><th>Date</th><th>YNDX</th><th>MSFT</th><th>AAPL</th><th>NVDA</th><th>MA</th></tr><tr><td>date</td><td>f64</td><td>f64</td><td>f64</td><td>f64</td><td>f64</td></tr></thead><tbody><tr><td>2020-01-02</td><td>44.080002</td><td>153.938202</td><td>72.876099</td><td>5.973122</td><td>295.023926</td></tr><tr><td>2020-01-03</td><td>43.209999</td><td>152.021408</td><td>72.167603</td><td>5.877516</td><td>292.145538</td></tr><tr><td>2020-01-06</td><td>43.099998</td><td>152.414352</td><td>72.742661</td><td>5.902164</td><td>292.923401</td></tr><tr><td>2020-01-07</td><td>43.165001</td><td>151.024689</td><td>72.400543</td><td>5.97362</td><td>291.931519</td></tr><tr><td>2020-01-08</td><td>43.77</td><td>153.430252</td><td>73.565201</td><td>5.984824</td><td>297.082611</td></tr><tr><td>&hellip;</td><td>&hellip;</td><td>&hellip;</td><td>&hellip;</td><td>&hellip;</td><td>&hellip;</td></tr><tr><td>2024-10-03</td><td>18.940001</td><td>416.540009</td><td>225.669998</td><td>122.849998</td><td>494.312775</td></tr><tr><td>2024-10-04</td><td>18.940001</td><td>416.059998</td><td>226.800003</td><td>124.919998</td><td>497.039154</td></tr><tr><td>2024-10-07</td><td>18.940001</td><td>409.540009</td><td>221.690002</td><td>127.720001</td><td>490.647644</td></tr><tr><td>2024-10-08</td><td>18.940001</td><td>414.709991</td><td>225.770004</td><td>132.889999</td><td>496.399994</td></tr><tr><td>2024-10-09</td><td>18.940001</td><td>417.459991</td><td>229.539993</td><td>132.649994</td><td>499.950012</td></tr></tbody></table></div>"
      ],
      "text/plain": [
       "shape: (1_201, 6)\n",
       "┌────────────┬───────────┬────────────┬────────────┬────────────┬────────────┐\n",
       "│ Date       ┆ YNDX      ┆ MSFT       ┆ AAPL       ┆ NVDA       ┆ MA         │\n",
       "│ ---        ┆ ---       ┆ ---        ┆ ---        ┆ ---        ┆ ---        │\n",
       "│ date       ┆ f64       ┆ f64        ┆ f64        ┆ f64        ┆ f64        │\n",
       "╞════════════╪═══════════╪════════════╪════════════╪════════════╪════════════╡\n",
       "│ 2020-01-02 ┆ 44.080002 ┆ 153.938202 ┆ 72.876099  ┆ 5.973122   ┆ 295.023926 │\n",
       "│ 2020-01-03 ┆ 43.209999 ┆ 152.021408 ┆ 72.167603  ┆ 5.877516   ┆ 292.145538 │\n",
       "│ 2020-01-06 ┆ 43.099998 ┆ 152.414352 ┆ 72.742661  ┆ 5.902164   ┆ 292.923401 │\n",
       "│ 2020-01-07 ┆ 43.165001 ┆ 151.024689 ┆ 72.400543  ┆ 5.97362    ┆ 291.931519 │\n",
       "│ 2020-01-08 ┆ 43.77     ┆ 153.430252 ┆ 73.565201  ┆ 5.984824   ┆ 297.082611 │\n",
       "│ …          ┆ …         ┆ …          ┆ …          ┆ …          ┆ …          │\n",
       "│ 2024-10-03 ┆ 18.940001 ┆ 416.540009 ┆ 225.669998 ┆ 122.849998 ┆ 494.312775 │\n",
       "│ 2024-10-04 ┆ 18.940001 ┆ 416.059998 ┆ 226.800003 ┆ 124.919998 ┆ 497.039154 │\n",
       "│ 2024-10-07 ┆ 18.940001 ┆ 409.540009 ┆ 221.690002 ┆ 127.720001 ┆ 490.647644 │\n",
       "│ 2024-10-08 ┆ 18.940001 ┆ 414.709991 ┆ 225.770004 ┆ 132.889999 ┆ 496.399994 │\n",
       "│ 2024-10-09 ┆ 18.940001 ┆ 417.459991 ┆ 229.539993 ┆ 132.649994 ┆ 499.950012 │\n",
       "└────────────┴───────────┴────────────┴────────────┴────────────┴────────────┘"
      ]
     },
     "execution_count": 3,
     "metadata": {},
     "output_type": "execute_result"
    }
   ],
   "source": [
    "findata"
   ]
  },
  {
   "cell_type": "code",
   "execution_count": 4,
   "id": "07f439dc-f773-4deb-a03e-f11ded648e13",
   "metadata": {},
   "outputs": [],
   "source": [
    "news = news.group_by('PostDate').agg(pl.all().str.join(\"\\n\")).sort('PostDate')"
   ]
  },
  {
   "cell_type": "code",
   "execution_count": 5,
   "id": "eb66d088-23f2-43ab-9b3a-e90271510bab",
   "metadata": {},
   "outputs": [],
   "source": [
    "result = findata.join(news,left_on='Date',right_on='PostDate').sort('Date')"
   ]
  },
  {
   "cell_type": "code",
   "execution_count": null,
   "id": "6c0f2226-0a53-4525-ac26-7479ab653f9a",
   "metadata": {},
   "outputs": [
    {
     "name": "stderr",
     "output_type": "stream",
     "text": [
      "/home/void/allinfo_new/venv/lib/python3.12/site-packages/tqdm/auto.py:21: TqdmWarning: IProgress not found. Please update jupyter and ipywidgets. See https://ipywidgets.readthedocs.io/en/stable/user_install.html\n",
      "  from .autonotebook import tqdm as notebook_tqdm\n"
     ]
    }
   ],
   "source": [
    "from transformers import AutoTokenizer, AutoModel\n",
    "import torch\n",
    "\n",
    "\n",
    "def mean_pooling(model_output, attention_mask):\n",
    "    token_embeddings = model_output[0] #First element of model_output contains all token embeddings\n",
    "    input_mask_expanded = attention_mask.unsqueeze(-1).expand(token_embeddings.size()).float()\n",
    "    sum_embeddings = torch.sum(token_embeddings * input_mask_expanded, 1)\n",
    "    sum_mask = torch.clamp(input_mask_expanded.sum(1), min=1e-9)\n",
    "    return sum_embeddings / sum_mask\n",
    "\n",
    "tokenizer_sbert = AutoTokenizer.from_pretrained(\"ai-forever/sbert_large_mt_nlu_ru\")\n",
    "model_sbert = AutoModel.from_pretrained(\"ai-forever/sbert_large_mt_nlu_ru\")\n",
    "def get_embeding(sentences,tokenizer,model):\n",
    "    encoded_input = tokenizer(sentences, padding=True, truncation=True, max_length=512, return_tensors='pt')\n",
    "    with torch.no_grad():\n",
    "        model_output = model(**encoded_input)\n",
    "    sentence_embeddings = mean_pooling(model_output, encoded_input['attention_mask'])\n",
    "    return sentence_embeddings\n"
   ]
  },
  {
   "cell_type": "code",
   "execution_count": null,
   "id": "6e65e3e9-6a87-4aa7-a3b7-da573b459f71",
   "metadata": {
    "scrolled": true
   },
   "outputs": [],
   "source": [
    "DeepPavlov/rubert-base-cased"
   ]
  },
  {
   "cell_type": "code",
   "execution_count": null,
   "id": "2e173894-7a99-494d-8b44-66f26e50f123",
   "metadata": {},
   "outputs": [],
   "source": []
  },
  {
   "cell_type": "code",
   "execution_count": null,
   "id": "9808b818-71a7-40b7-a89f-ceb485b8ea83",
   "metadata": {},
   "outputs": [],
   "source": []
  }
 ],
 "metadata": {
  "kernelspec": {
   "display_name": "venv",
   "language": "python",
   "name": "venv"
  },
  "language_info": {
   "codemirror_mode": {
    "name": "ipython",
    "version": 3
   },
   "file_extension": ".py",
   "mimetype": "text/x-python",
   "name": "python",
   "nbconvert_exporter": "python",
   "pygments_lexer": "ipython3",
   "version": "3.12.7"
  }
 },
 "nbformat": 4,
 "nbformat_minor": 5
}
